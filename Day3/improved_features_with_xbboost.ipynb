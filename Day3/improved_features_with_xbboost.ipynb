{
  "nbformat": 4,
  "nbformat_minor": 0,
  "metadata": {
    "colab": {
      "name": "improved_features_submission.ipynb",
      "provenance": [],
      "toc_visible": true
    },
    "kernelspec": {
      "name": "python3",
      "display_name": "Python 3"
    },
    "accelerator": "GPU"
  },
  "cells": [
    {
      "cell_type": "code",
      "metadata": {
        "id": "fAmQN_xF-1Bz",
        "colab_type": "code",
        "colab": {}
      },
      "source": [
        "from google.colab import drive\n",
        "from sklearn import preprocessing\n",
        "import pandas as pd\n",
        "import matplotlib.pyplot as plt\n",
        "import seaborn as sns\n",
        "%matplotlib inline \n",
        "import numpy as np\n",
        "from sklearn.metrics import accuracy_score, confusion_matrix\n",
        "from sklearn.ensemble import RandomForestClassifier\n",
        "from sklearn.model_selection import GridSearchCV\n",
        "from sklearn import svm, tree\n",
        "import xgboost as xgb\n",
        "from sklearn.model_selection import train_test_split\n",
        "from sklearn.metrics import roc_auc_score\n",
        "from sklearn.model_selection import cross_val_score\n",
        "from sklearn.linear_model import LogisticRegression\n",
        "from numpy import loadtxt\n",
        "from xgboost import XGBClassifier\n",
        "from sklearn.model_selection import train_test_split\n",
        "from sklearn.metrics import accuracy_score"
      ],
      "execution_count": 0,
      "outputs": []
    },
    {
      "cell_type": "code",
      "metadata": {
        "id": "1IIqdvy1XwdI",
        "colab_type": "code",
        "colab": {
          "base_uri": "https://localhost:8080/",
          "height": 122
        },
        "outputId": "1572d5ca-f579-4138-8aef-bb09f9e450da"
      },
      "source": [
        "drive.mount('/content/gdrive')"
      ],
      "execution_count": 2,
      "outputs": [
        {
          "output_type": "stream",
          "text": [
            "Go to this URL in a browser: https://accounts.google.com/o/oauth2/auth?client_id=947318989803-6bn6qk8qdgf4n4g3pfee6491hc0brc4i.apps.googleusercontent.com&redirect_uri=urn%3aietf%3awg%3aoauth%3a2.0%3aoob&response_type=code&scope=email%20https%3a%2f%2fwww.googleapis.com%2fauth%2fdocs.test%20https%3a%2f%2fwww.googleapis.com%2fauth%2fdrive%20https%3a%2f%2fwww.googleapis.com%2fauth%2fdrive.photos.readonly%20https%3a%2f%2fwww.googleapis.com%2fauth%2fpeopleapi.readonly\n",
            "\n",
            "Enter your authorization code:\n",
            "··········\n",
            "Mounted at /content/gdrive\n"
          ],
          "name": "stdout"
        }
      ]
    },
    {
      "cell_type": "code",
      "metadata": {
        "id": "qLm3OJnF_9lr",
        "colab_type": "code",
        "colab": {}
      },
      "source": [
        "train_df = pd.read_csv('/content/gdrive/My Drive/Hackathons/Data Storm 1.0/data-storm-10/credit_card_default_train.csv')\n",
        "test_df = pd.read_csv('/content/gdrive/My Drive/Hackathons/Data Storm 1.0/data-storm-10/credit_card_default_test.csv')"
      ],
      "execution_count": 0,
      "outputs": []
    },
    {
      "cell_type": "code",
      "metadata": {
        "id": "uArZ08oQAhHx",
        "colab_type": "code",
        "colab": {}
      },
      "source": [
        "# replacing balance limit v1\n",
        "train_df['Balance_Limit_V1'] = train_df['Balance_Limit_V1'].replace('2.5M', 1)\n",
        "train_df['Balance_Limit_V1'] = train_df['Balance_Limit_V1'].replace('1.5M', 0.6)\n",
        "train_df['Balance_Limit_V1'] = train_df['Balance_Limit_V1'].replace('1M', 0.4)\n",
        "train_df['Balance_Limit_V1'] = train_df['Balance_Limit_V1'].replace(' 500K', 0.2)\n",
        "train_df['Balance_Limit_V1'] = train_df['Balance_Limit_V1'].replace('400K', 0.16)\n",
        "train_df['Balance_Limit_V1'] = train_df['Balance_Limit_V1'].replace('300K', 0.12)\n",
        "train_df['Balance_Limit_V1'] = train_df['Balance_Limit_V1'].replace('200K', 0.08)\n",
        "train_df['Balance_Limit_V1'] = train_df['Balance_Limit_V1'].replace('100K', 0.04)\n",
        "test_df['Balance_Limit_V1'] = test_df['Balance_Limit_V1'].replace('2.5M', 1)\n",
        "test_df['Balance_Limit_V1'] = test_df['Balance_Limit_V1'].replace('1.5M', 0.6)\n",
        "test_df['Balance_Limit_V1'] = test_df['Balance_Limit_V1'].replace('1M', 0.4)\n",
        "test_df['Balance_Limit_V1'] = test_df['Balance_Limit_V1'].replace(' 500K', 0.2)\n",
        "test_df['Balance_Limit_V1'] = test_df['Balance_Limit_V1'].replace('400K', 0.16)\n",
        "test_df['Balance_Limit_V1'] = test_df['Balance_Limit_V1'].replace('300K', 0.12)\n",
        "test_df['Balance_Limit_V1'] = test_df['Balance_Limit_V1'].replace('200K', 0.08)\n",
        "test_df['Balance_Limit_V1'] = test_df['Balance_Limit_V1'].replace('100K', 0.04)\n",
        "\n",
        "# replacing gender\n",
        "train_df['Gender'] = train_df['Gender'].replace('M', 1)\n",
        "train_df['Gender'] = train_df['Gender'].replace('F', -1)\n",
        "test_df['Gender'] = test_df['Gender'].replace('M', 1)\n",
        "test_df['Gender'] = test_df['Gender'].replace('F', -1)\n",
        "\n",
        "# replacing educational status\n",
        "train_df['EDUCATION_STATUS'] = train_df['EDUCATION_STATUS'].replace('Graduate', 1)\n",
        "train_df['EDUCATION_STATUS'] = train_df['EDUCATION_STATUS'].replace('High School', 2)\n",
        "train_df['EDUCATION_STATUS'] = train_df['EDUCATION_STATUS'].replace('Other', 3)\n",
        "test_df['EDUCATION_STATUS'] = test_df['EDUCATION_STATUS'].replace('Graduate', 1)\n",
        "test_df['EDUCATION_STATUS'] = test_df['EDUCATION_STATUS'].replace('High School', 2)\n",
        "test_df['EDUCATION_STATUS'] = test_df['EDUCATION_STATUS'].replace('Other', 3)\n",
        "\n",
        "# replacing marital status\n",
        "train_df['MARITAL_STATUS'] = train_df['MARITAL_STATUS'].replace('Single', 0)\n",
        "train_df['MARITAL_STATUS'] = train_df['MARITAL_STATUS'].replace('Other', 1)\n",
        "test_df['MARITAL_STATUS'] = test_df['MARITAL_STATUS'].replace('Single', 0)\n",
        "test_df['MARITAL_STATUS'] = test_df['MARITAL_STATUS'].replace('Other', 1)\n",
        "\n",
        "# replacing age\n",
        "train_df['AGE'] = train_df['AGE'].replace('Less than 30', 0.25)\n",
        "train_df['AGE'] = train_df['AGE'].replace('31-45', 0.5)\n",
        "train_df['AGE'] = train_df['AGE'].replace('46-65', 0.75)\n",
        "train_df['AGE'] = train_df['AGE'].replace('More than 65', 1)\n",
        "test_df['AGE'] = test_df['AGE'].replace('Less than 30', 0.25)\n",
        "test_df['AGE'] = test_df['AGE'].replace('31-45', 0.5)\n",
        "test_df['AGE'] = test_df['AGE'].replace('46-65', 0.75)\n",
        "test_df['AGE'] = test_df['AGE'].replace('More than 65', 1)\n",
        "\n",
        "# replacing due amount\n",
        "train_df['DUE_AMT_JULY'] = train_df['DUE_AMT_JULY']\n",
        "train_df['DUE_AMT_AUG'] = train_df['DUE_AMT_AUG']\n",
        "train_df['DUE_AMT_SEP'] = train_df['DUE_AMT_SEP']\n",
        "train_df['DUE_AMT_OCT'] = train_df['DUE_AMT_OCT']\n",
        "train_df['DUE_AMT_NOV'] = train_df['DUE_AMT_NOV']\n",
        "train_df['DUE_AMT_DEC'] = train_df['DUE_AMT_DEC']\n",
        "test_df['DUE_AMT_JULY'] = test_df['DUE_AMT_JULY']\n",
        "test_df['DUE_AMT_AUG'] = test_df['DUE_AMT_AUG']\n",
        "test_df['DUE_AMT_SEP'] = test_df['DUE_AMT_SEP']\n",
        "test_df['DUE_AMT_OCT'] = test_df['DUE_AMT_OCT']\n",
        "test_df['DUE_AMT_NOV'] = test_df['DUE_AMT_NOV']\n",
        "test_df['DUE_AMT_DEC'] = test_df['DUE_AMT_DEC']\n",
        "\n",
        "# replacing paid amount\n",
        "train_df['PAID_AMT_JULY'] = train_df['PAID_AMT_JULY']\n",
        "train_df['PAID_AMT_AUG'] = train_df['PAID_AMT_AUG']\n",
        "train_df['PAID_AMT_SEP'] = train_df['PAID_AMT_SEP']\n",
        "train_df['PAID_AMT_OCT'] = train_df['PAID_AMT_OCT']\n",
        "train_df['PAID_AMT_NOV'] = train_df['PAID_AMT_NOV']\n",
        "train_df['PAID_AMT_DEC'] = train_df['PAID_AMT_DEC']\n",
        "test_df['PAID_AMT_JULY'] = test_df['PAID_AMT_JULY']\n",
        "test_df['PAID_AMT_AUG'] = test_df['PAID_AMT_AUG']\n",
        "test_df['PAID_AMT_SEP'] = test_df['PAID_AMT_SEP']\n",
        "test_df['PAID_AMT_OCT'] = test_df['PAID_AMT_OCT']\n",
        "test_df['PAID_AMT_NOV'] = test_df['PAID_AMT_NOV']\n",
        "test_df['PAID_AMT_DEC'] = test_df['PAID_AMT_DEC']\n"
      ],
      "execution_count": 0,
      "outputs": []
    },
    {
      "cell_type": "code",
      "metadata": {
        "id": "Rnvo3fvs9wPI",
        "colab_type": "code",
        "colab": {}
      },
      "source": [
        "train_df['carrying_balance1'] = train_df['DUE_AMT_JULY'] - train_df['PAID_AMT_JULY']\n",
        "train_df['carrying_balance2'] = train_df['DUE_AMT_AUG'] - train_df['PAID_AMT_AUG']\n",
        "train_df['carrying_balance3'] = train_df['DUE_AMT_SEP'] - train_df['PAID_AMT_SEP']\n",
        "train_df['carrying_balance4'] = train_df['DUE_AMT_OCT'] - train_df['PAID_AMT_OCT']\n",
        "train_df['carrying_balance5'] = train_df['DUE_AMT_NOV'] - train_df['PAID_AMT_NOV']\n",
        "train_df['carrying_balance6'] = train_df['DUE_AMT_DEC'] - train_df['PAID_AMT_DEC']\n",
        "test_df['carrying_balance1'] = test_df['DUE_AMT_JULY'] - test_df['PAID_AMT_JULY']\n",
        "test_df['carrying_balance2'] = test_df['DUE_AMT_AUG'] - test_df['PAID_AMT_AUG']\n",
        "test_df['carrying_balance3'] = test_df['DUE_AMT_SEP'] - test_df['PAID_AMT_SEP']\n",
        "test_df['carrying_balance4'] = test_df['DUE_AMT_OCT'] - test_df['PAID_AMT_OCT']\n",
        "test_df['carrying_balance5'] = test_df['DUE_AMT_NOV'] - test_df['PAID_AMT_NOV']\n",
        "test_df['carrying_balance6'] = test_df['DUE_AMT_DEC'] - test_df['PAID_AMT_DEC']"
      ],
      "execution_count": 0,
      "outputs": []
    },
    {
      "cell_type": "code",
      "metadata": {
        "id": "syxDboVc-1o1",
        "colab_type": "code",
        "colab": {}
      },
      "source": [
        "train_df['debt_credit_ratio1'] = train_df['carrying_balance1']/ train_df['Balance_Limit_V1']\n",
        "train_df['debt_credit_ratio2'] = train_df['carrying_balance2']/ train_df['Balance_Limit_V1']\n",
        "train_df['debt_credit_ratio3'] = train_df['carrying_balance3']/ train_df['Balance_Limit_V1']\n",
        "train_df['debt_credit_ratio4'] = train_df['carrying_balance4']/ train_df['Balance_Limit_V1']\n",
        "train_df['debt_credit_ratio5'] = train_df['carrying_balance5']/ train_df['Balance_Limit_V1']\n",
        "train_df['debt_credit_ratio6'] = train_df['carrying_balance6']/ train_df['Balance_Limit_V1']\n",
        "test_df['debt_credit_ratio1'] = test_df['carrying_balance1']/ test_df['Balance_Limit_V1']\n",
        "test_df['debt_credit_ratio2'] = test_df['carrying_balance2']/ test_df['Balance_Limit_V1']\n",
        "test_df['debt_credit_ratio3'] = test_df['carrying_balance3']/ test_df['Balance_Limit_V1']\n",
        "test_df['debt_credit_ratio4'] = test_df['carrying_balance4']/ test_df['Balance_Limit_V1']\n",
        "test_df['debt_credit_ratio5'] = test_df['carrying_balance5']/ test_df['Balance_Limit_V1']\n",
        "test_df['debt_credit_ratio6'] = test_df['carrying_balance6']/ test_df['Balance_Limit_V1']"
      ],
      "execution_count": 0,
      "outputs": []
    },
    {
      "cell_type": "code",
      "metadata": {
        "id": "-5UNgZjfAMn9",
        "colab_type": "code",
        "colab": {}
      },
      "source": [
        "train_df=train_df.drop(['DUE_AMT_JULY','DUE_AMT_AUG','DUE_AMT_SEP','DUE_AMT_OCT','DUE_AMT_NOV',\n",
        "              'DUE_AMT_DEC','PAID_AMT_JULY','PAID_AMT_AUG','PAID_AMT_SEP','PAID_AMT_OCT', 'PAID_AMT_NOV','PAID_AMT_DEC'], axis=1)"
      ],
      "execution_count": 0,
      "outputs": []
    },
    {
      "cell_type": "code",
      "metadata": {
        "id": "GX-HeQ3NBEkR",
        "colab_type": "code",
        "outputId": "ae713cc3-56bb-49fd-b238-ce258e588509",
        "colab": {
          "base_uri": "https://localhost:8080/",
          "height": 379
        }
      },
      "source": [
        "corr = train_df[['Balance_Limit_V1', 'Gender', 'EDUCATION_STATUS', 'MARITAL_STATUS', 'PAY_JULY', 'PAY_AUG',\n",
        "       'PAY_SEP', 'PAY_OCT', 'PAY_NOV', 'PAY_DEC', 'NEXT_MONTH_DEFAULT',\n",
        "       'carrying_balance1', 'carrying_balance2', 'carrying_balance3',\n",
        "       'carrying_balance4', 'carrying_balance5', 'carrying_balance6',\n",
        "       'debt_credit_ratio1', 'debt_credit_ratio2', 'debt_credit_ratio3',\n",
        "       'debt_credit_ratio4', 'debt_credit_ratio5', 'debt_credit_ratio6',\n",
        "       'AGE']].corr()\n",
        "sns.heatmap(corr,xticklabels=corr.columns,yticklabels=corr.columns)\n",
        "plt.show()"
      ],
      "execution_count": 8,
      "outputs": [
        {
          "output_type": "display_data",
          "data": {
            "image/png": "[encoded data removed]",
            "text/plain": [
              "<Figure size 432x288 with 2 Axes>"
            ]
          },
          "metadata": {
            "tags": []
          }
        }
      ]
    },
    {
      "cell_type": "code",
      "metadata": {
        "id": "RXidGoFyRFJk",
        "colab_type": "code",
        "colab": {}
      },
      "source": [
        "features = ['Balance_Limit_V1', 'Gender', 'EDUCATION_STATUS', 'MARITAL_STATUS', 'PAY_JULY', 'PAY_AUG',\n",
        "       'PAY_SEP', 'PAY_OCT', 'PAY_NOV', 'PAY_DEC',\n",
        "       'carrying_balance1', 'carrying_balance2', 'carrying_balance3',\n",
        "       'carrying_balance4', 'carrying_balance5', 'carrying_balance6',\n",
        "       'debt_credit_ratio1', 'debt_credit_ratio2', 'debt_credit_ratio3',\n",
        "       'debt_credit_ratio4', 'debt_credit_ratio5', 'debt_credit_ratio6',\n",
        "       'AGE']\n",
        "\n",
        "output= 'NEXT_MONTH_DEFAULT'\n",
        "\n",
        "X = train_df[features].values    \n",
        "y = train_df[ output ].values\n",
        "submit_test = test_df[features].values \n",
        "\n",
        "from sklearn.model_selection import train_test_split\n",
        "X_train, X_test, y_train, y_test = train_test_split( X, y, test_size=0.2)"
      ],
      "execution_count": 0,
      "outputs": []
    },
    {
      "cell_type": "code",
      "metadata": {
        "id": "km9wKyHSLfGj",
        "colab_type": "code",
        "outputId": "5c9bb98c-ac92-465a-dc1c-3566c84fde84",
        "colab": {
          "base_uri": "https://localhost:8080/",
          "height": 34
        }
      },
      "source": [
        "\n",
        "# fit model no training data\n",
        "model = XGBClassifier()\n",
        "model.fit(X_train, y_train)\n",
        "\n",
        "# make predictions for test data\n",
        "y_pred = model.predict(X_test)\n",
        "y_pred_submit = model.predict( submit_test )\n",
        "predictions = [round(value) for value in y_pred]\n",
        "\n",
        "# evaluate predictions\n",
        "accuracy = accuracy_score(y_test, predictions)\n",
        "print(\"Accuracy: %.2f%%\" % (accuracy * 100.0))\n"
      ],
      "execution_count": 10,
      "outputs": [
        {
          "output_type": "stream",
          "text": [
            "Accuracy: 82.00%\n"
          ],
          "name": "stdout"
        }
      ]
    },
    {
      "cell_type": "code",
      "metadata": {
        "id": "6mIDVHxPMbIE",
        "colab_type": "code",
        "colab": {}
      },
      "source": [
        "# saving results file\n",
        "fo = open('/content/gdrive/My Drive/Hackathons/Data Storm 1.0/Lahiru_Solution/result_final1.csv', 'w')\n",
        "for x in np.nditer(y_pred_submit):\n",
        "    fo.write(str(x))\n",
        "    fo.write('\\n')\n",
        "fo.close()"
      ],
      "execution_count": 0,
      "outputs": []
    }
  ]
}